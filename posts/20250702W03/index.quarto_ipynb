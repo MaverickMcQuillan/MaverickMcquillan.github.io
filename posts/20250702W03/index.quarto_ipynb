{
 "cells": [
  {
   "cell_type": "markdown",
   "id": "0be70f6f",
   "metadata": {},
   "source": [
    "---\n",
    "title: \"Journal Entry: Week 3 of July 2025\"\n",
    "author: \"Maverick Mcquillan\"\n",
    "date: \"2025-07-18\"\n",
    "categories: [Journal] \n",
    "image: \"week.jpg\" \n",
    "---\n",
    "\n",
    "```{html}\n",
    "\n",
    "<table>\n",
    "  <tr>\n",
    "    <td>Date</td>\n",
    "    <td>M</td>\n",
    "    <td>Sport</td>\n",
    "    <td>Think</td>\n",
    "    <td>Reading</td>\n",
    "    <td>Speaking</td>\n",
    "    <td>Coding</td>\n",
    "\n",
    "  </tr>\n",
    "\n",
    "\n",
    "\n",
    "</table>\n",
    "\n",
    "```"
   ]
  }
 ],
 "metadata": {
  "kernelspec": {
   "display_name": "Python 3 (ipykernel)",
   "language": "python",
   "name": "python3",
   "path": "/Library/Frameworks/Python.framework/Versions/3.13/share/jupyter/kernels/python3"
  },
  "language_info": {
   "codemirror_mode": {
    "name": "ipython",
    "version": 3
   },
   "file_extension": ".py",
   "mimetype": "text/x-python",
   "name": "python",
   "nbconvert_exporter": "python",
   "pygments_lexer": "ipython3",
   "version": "3.13.1"
  }
 },
 "nbformat": 4,
 "nbformat_minor": 5
}
